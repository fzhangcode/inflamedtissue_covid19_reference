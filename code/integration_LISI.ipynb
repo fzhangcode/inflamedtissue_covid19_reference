{
 "cells": [
  {
   "cell_type": "code",
   "execution_count": 2,
   "metadata": {},
   "outputs": [],
   "source": [
    "library(lisi)\n",
    "library(Seurat)\n",
    "library(harmony)\n",
    "library(magrittr)\n",
    "library(gridExtra)\n",
    "library(ggthemes)\n",
    "library(scales)\n",
    "library(pheatmap)\n",
    "library(dplyr)\n",
    "library(monocle)\n",
    "library(reticulate)\n",
    "library(ggbeeswarm)\n",
    "library(ggrepel)\n",
    "library(plyr)\n",
    "library(ggplot2)\n",
    "library(gridExtra)\n",
    "library(ggthemes)\n",
    "library(scales)\n",
    "library(pheatmap)\n",
    "library(dplyr)\n",
    "library(RColorBrewer)\n",
    "library(ggbeeswarm)\n",
    "library(ggrepel)\n",
    "library(patchwork)\n",
    "library(MASS)\n",
    "library(matrixStats)\n",
    "library(viridis)\n",
    "library(pbapply)\n",
    "library(parallel)\n",
    "library(grid)"
   ]
  },
  {
   "cell_type": "markdown",
   "metadata": {},
   "source": [
    "# LISI: (Local inverse Simpson’s index): measures degree of batch mixing in a low-dimensional embedding\n",
    "#### \"Instead of a fixed number of nearest neighbors as in the case of kBET, LISI selects the nearest neighbors based on the local distribution of distances with a fixed perplexity\"\n",
    "#### \"The selected neighbors are then used to compute the inverse Simpson’s index for diversity, which is the effective number of types present in this neighborhood\""
   ]
  },
  {
   "cell_type": "markdown",
   "metadata": {},
   "source": [
    "## After harmony correction"
   ]
  },
  {
   "cell_type": "code",
   "execution_count": 3,
   "metadata": {},
   "outputs": [
    {
     "data": {
      "text/html": [
       "<ol class=list-inline>\n",
       "\t<li>'cell'</li>\n",
       "\t<li>'dataset'</li>\n",
       "\t<li>'technology'</li>\n",
       "\t<li>'sample'</li>\n",
       "\t<li>'disease'</li>\n",
       "\t<li>'cell_type'</li>\n",
       "\t<li>'nUMI'</li>\n",
       "\t<li>'nGene'</li>\n",
       "\t<li>'percent_mito'</li>\n",
       "\t<li>'percent.ribo'</li>\n",
       "\t<li>'harmonized_s_PC1'</li>\n",
       "\t<li>'harmonized_s_PC2'</li>\n",
       "\t<li>'harmonized_s_PC3'</li>\n",
       "\t<li>'harmonized_s_PC4'</li>\n",
       "\t<li>'harmonized_s_PC5'</li>\n",
       "\t<li>'harmonized_s_PC6'</li>\n",
       "\t<li>'harmonized_s_PC7'</li>\n",
       "\t<li>'harmonized_s_PC8'</li>\n",
       "\t<li>'harmonized_s_PC9'</li>\n",
       "\t<li>'harmonized_s_PC10'</li>\n",
       "\t<li>'harmonized_s_PC11'</li>\n",
       "\t<li>'harmonized_s_PC12'</li>\n",
       "\t<li>'harmonized_s_PC13'</li>\n",
       "\t<li>'harmonized_s_PC14'</li>\n",
       "\t<li>'harmonized_s_PC15'</li>\n",
       "\t<li>'harmonized_s_PC16'</li>\n",
       "\t<li>'harmonized_s_PC17'</li>\n",
       "\t<li>'harmonized_s_PC18'</li>\n",
       "\t<li>'harmonized_s_PC19'</li>\n",
       "\t<li>'harmonized_s_PC20'</li>\n",
       "\t<li>'harmonized_d_PC1'</li>\n",
       "\t<li>'harmonized_d_PC2'</li>\n",
       "\t<li>'harmonized_d_PC3'</li>\n",
       "\t<li>'harmonized_d_PC4'</li>\n",
       "\t<li>'harmonized_d_PC5'</li>\n",
       "\t<li>'harmonized_d_PC6'</li>\n",
       "\t<li>'harmonized_d_PC7'</li>\n",
       "\t<li>'harmonized_d_PC8'</li>\n",
       "\t<li>'harmonized_d_PC9'</li>\n",
       "\t<li>'harmonized_d_PC10'</li>\n",
       "\t<li>'harmonized_d_PC11'</li>\n",
       "\t<li>'harmonized_d_PC12'</li>\n",
       "\t<li>'harmonized_d_PC13'</li>\n",
       "\t<li>'harmonized_d_PC14'</li>\n",
       "\t<li>'harmonized_d_PC15'</li>\n",
       "\t<li>'harmonized_d_PC16'</li>\n",
       "\t<li>'harmonized_d_PC17'</li>\n",
       "\t<li>'harmonized_d_PC18'</li>\n",
       "\t<li>'harmonized_d_PC19'</li>\n",
       "\t<li>'harmonized_d_PC20'</li>\n",
       "\t<li>'harmonized_ds_PC1'</li>\n",
       "\t<li>'harmonized_ds_PC2'</li>\n",
       "\t<li>'harmonized_ds_PC3'</li>\n",
       "\t<li>'harmonized_ds_PC4'</li>\n",
       "\t<li>'harmonized_ds_PC5'</li>\n",
       "\t<li>'harmonized_ds_PC6'</li>\n",
       "\t<li>'harmonized_ds_PC7'</li>\n",
       "\t<li>'harmonized_ds_PC8'</li>\n",
       "\t<li>'harmonized_ds_PC9'</li>\n",
       "\t<li>'harmonized_ds_PC10'</li>\n",
       "\t<li>'harmonized_ds_PC11'</li>\n",
       "\t<li>'harmonized_ds_PC12'</li>\n",
       "\t<li>'harmonized_ds_PC13'</li>\n",
       "\t<li>'harmonized_ds_PC14'</li>\n",
       "\t<li>'harmonized_ds_PC15'</li>\n",
       "\t<li>'harmonized_ds_PC16'</li>\n",
       "\t<li>'harmonized_ds_PC17'</li>\n",
       "\t<li>'harmonized_ds_PC18'</li>\n",
       "\t<li>'harmonized_ds_PC19'</li>\n",
       "\t<li>'harmonized_ds_PC20'</li>\n",
       "\t<li>'harmonized_s_UMAP1'</li>\n",
       "\t<li>'harmonized_s_UMAP2'</li>\n",
       "\t<li>'harmonized_d_UMAP1'</li>\n",
       "\t<li>'harmonized_d_UMAP2'</li>\n",
       "\t<li>'harmonized_ds_UMAP1'</li>\n",
       "\t<li>'harmonized_ds_UMAP2'</li>\n",
       "\t<li>'disease_new'</li>\n",
       "\t<li>'s_d'</li>\n",
       "\t<li>'harmonized_new_PC1'</li>\n",
       "\t<li>'harmonized_new_PC2'</li>\n",
       "\t<li>'harmonized_new_PC3'</li>\n",
       "\t<li>'harmonized_new_PC4'</li>\n",
       "\t<li>'harmonized_new_PC5'</li>\n",
       "\t<li>'harmonized_new_PC6'</li>\n",
       "\t<li>'harmonized_new_PC7'</li>\n",
       "\t<li>'harmonized_new_PC8'</li>\n",
       "\t<li>'harmonized_new_PC9'</li>\n",
       "\t<li>'harmonized_new_PC10'</li>\n",
       "\t<li>'harmonized_new_PC11'</li>\n",
       "\t<li>'harmonized_new_PC12'</li>\n",
       "\t<li>'harmonized_new_PC13'</li>\n",
       "\t<li>'harmonized_new_PC14'</li>\n",
       "\t<li>'harmonized_new_PC15'</li>\n",
       "\t<li>'harmonized_new_PC16'</li>\n",
       "\t<li>'harmonized_new_PC17'</li>\n",
       "\t<li>'harmonized_new_PC18'</li>\n",
       "\t<li>'harmonized_new_PC19'</li>\n",
       "\t<li>'harmonized_new_PC20'</li>\n",
       "\t<li>'harmonized_new_UMAP1'</li>\n",
       "\t<li>'harmonized_new_UMAP2'</li>\n",
       "\t<li>'harmonized_new2_UMAP1'</li>\n",
       "\t<li>'harmonized_new2_UMAP2'</li>\n",
       "\t<li>'res_0.20'</li>\n",
       "\t<li>'res_0.40'</li>\n",
       "\t<li>'res_0.60'</li>\n",
       "\t<li>'gene'</li>\n",
       "\t<li>'res_0.20_annot'</li>\n",
       "</ol>\n"
      ],
      "text/latex": [
       "\\begin{enumerate*}\n",
       "\\item 'cell'\n",
       "\\item 'dataset'\n",
       "\\item 'technology'\n",
       "\\item 'sample'\n",
       "\\item 'disease'\n",
       "\\item 'cell\\_type'\n",
       "\\item 'nUMI'\n",
       "\\item 'nGene'\n",
       "\\item 'percent\\_mito'\n",
       "\\item 'percent.ribo'\n",
       "\\item 'harmonized\\_s\\_PC1'\n",
       "\\item 'harmonized\\_s\\_PC2'\n",
       "\\item 'harmonized\\_s\\_PC3'\n",
       "\\item 'harmonized\\_s\\_PC4'\n",
       "\\item 'harmonized\\_s\\_PC5'\n",
       "\\item 'harmonized\\_s\\_PC6'\n",
       "\\item 'harmonized\\_s\\_PC7'\n",
       "\\item 'harmonized\\_s\\_PC8'\n",
       "\\item 'harmonized\\_s\\_PC9'\n",
       "\\item 'harmonized\\_s\\_PC10'\n",
       "\\item 'harmonized\\_s\\_PC11'\n",
       "\\item 'harmonized\\_s\\_PC12'\n",
       "\\item 'harmonized\\_s\\_PC13'\n",
       "\\item 'harmonized\\_s\\_PC14'\n",
       "\\item 'harmonized\\_s\\_PC15'\n",
       "\\item 'harmonized\\_s\\_PC16'\n",
       "\\item 'harmonized\\_s\\_PC17'\n",
       "\\item 'harmonized\\_s\\_PC18'\n",
       "\\item 'harmonized\\_s\\_PC19'\n",
       "\\item 'harmonized\\_s\\_PC20'\n",
       "\\item 'harmonized\\_d\\_PC1'\n",
       "\\item 'harmonized\\_d\\_PC2'\n",
       "\\item 'harmonized\\_d\\_PC3'\n",
       "\\item 'harmonized\\_d\\_PC4'\n",
       "\\item 'harmonized\\_d\\_PC5'\n",
       "\\item 'harmonized\\_d\\_PC6'\n",
       "\\item 'harmonized\\_d\\_PC7'\n",
       "\\item 'harmonized\\_d\\_PC8'\n",
       "\\item 'harmonized\\_d\\_PC9'\n",
       "\\item 'harmonized\\_d\\_PC10'\n",
       "\\item 'harmonized\\_d\\_PC11'\n",
       "\\item 'harmonized\\_d\\_PC12'\n",
       "\\item 'harmonized\\_d\\_PC13'\n",
       "\\item 'harmonized\\_d\\_PC14'\n",
       "\\item 'harmonized\\_d\\_PC15'\n",
       "\\item 'harmonized\\_d\\_PC16'\n",
       "\\item 'harmonized\\_d\\_PC17'\n",
       "\\item 'harmonized\\_d\\_PC18'\n",
       "\\item 'harmonized\\_d\\_PC19'\n",
       "\\item 'harmonized\\_d\\_PC20'\n",
       "\\item 'harmonized\\_ds\\_PC1'\n",
       "\\item 'harmonized\\_ds\\_PC2'\n",
       "\\item 'harmonized\\_ds\\_PC3'\n",
       "\\item 'harmonized\\_ds\\_PC4'\n",
       "\\item 'harmonized\\_ds\\_PC5'\n",
       "\\item 'harmonized\\_ds\\_PC6'\n",
       "\\item 'harmonized\\_ds\\_PC7'\n",
       "\\item 'harmonized\\_ds\\_PC8'\n",
       "\\item 'harmonized\\_ds\\_PC9'\n",
       "\\item 'harmonized\\_ds\\_PC10'\n",
       "\\item 'harmonized\\_ds\\_PC11'\n",
       "\\item 'harmonized\\_ds\\_PC12'\n",
       "\\item 'harmonized\\_ds\\_PC13'\n",
       "\\item 'harmonized\\_ds\\_PC14'\n",
       "\\item 'harmonized\\_ds\\_PC15'\n",
       "\\item 'harmonized\\_ds\\_PC16'\n",
       "\\item 'harmonized\\_ds\\_PC17'\n",
       "\\item 'harmonized\\_ds\\_PC18'\n",
       "\\item 'harmonized\\_ds\\_PC19'\n",
       "\\item 'harmonized\\_ds\\_PC20'\n",
       "\\item 'harmonized\\_s\\_UMAP1'\n",
       "\\item 'harmonized\\_s\\_UMAP2'\n",
       "\\item 'harmonized\\_d\\_UMAP1'\n",
       "\\item 'harmonized\\_d\\_UMAP2'\n",
       "\\item 'harmonized\\_ds\\_UMAP1'\n",
       "\\item 'harmonized\\_ds\\_UMAP2'\n",
       "\\item 'disease\\_new'\n",
       "\\item 's\\_d'\n",
       "\\item 'harmonized\\_new\\_PC1'\n",
       "\\item 'harmonized\\_new\\_PC2'\n",
       "\\item 'harmonized\\_new\\_PC3'\n",
       "\\item 'harmonized\\_new\\_PC4'\n",
       "\\item 'harmonized\\_new\\_PC5'\n",
       "\\item 'harmonized\\_new\\_PC6'\n",
       "\\item 'harmonized\\_new\\_PC7'\n",
       "\\item 'harmonized\\_new\\_PC8'\n",
       "\\item 'harmonized\\_new\\_PC9'\n",
       "\\item 'harmonized\\_new\\_PC10'\n",
       "\\item 'harmonized\\_new\\_PC11'\n",
       "\\item 'harmonized\\_new\\_PC12'\n",
       "\\item 'harmonized\\_new\\_PC13'\n",
       "\\item 'harmonized\\_new\\_PC14'\n",
       "\\item 'harmonized\\_new\\_PC15'\n",
       "\\item 'harmonized\\_new\\_PC16'\n",
       "\\item 'harmonized\\_new\\_PC17'\n",
       "\\item 'harmonized\\_new\\_PC18'\n",
       "\\item 'harmonized\\_new\\_PC19'\n",
       "\\item 'harmonized\\_new\\_PC20'\n",
       "\\item 'harmonized\\_new\\_UMAP1'\n",
       "\\item 'harmonized\\_new\\_UMAP2'\n",
       "\\item 'harmonized\\_new2\\_UMAP1'\n",
       "\\item 'harmonized\\_new2\\_UMAP2'\n",
       "\\item 'res\\_0.20'\n",
       "\\item 'res\\_0.40'\n",
       "\\item 'res\\_0.60'\n",
       "\\item 'gene'\n",
       "\\item 'res\\_0.20\\_annot'\n",
       "\\end{enumerate*}\n"
      ],
      "text/markdown": [
       "1. 'cell'\n",
       "2. 'dataset'\n",
       "3. 'technology'\n",
       "4. 'sample'\n",
       "5. 'disease'\n",
       "6. 'cell_type'\n",
       "7. 'nUMI'\n",
       "8. 'nGene'\n",
       "9. 'percent_mito'\n",
       "10. 'percent.ribo'\n",
       "11. 'harmonized_s_PC1'\n",
       "12. 'harmonized_s_PC2'\n",
       "13. 'harmonized_s_PC3'\n",
       "14. 'harmonized_s_PC4'\n",
       "15. 'harmonized_s_PC5'\n",
       "16. 'harmonized_s_PC6'\n",
       "17. 'harmonized_s_PC7'\n",
       "18. 'harmonized_s_PC8'\n",
       "19. 'harmonized_s_PC9'\n",
       "20. 'harmonized_s_PC10'\n",
       "21. 'harmonized_s_PC11'\n",
       "22. 'harmonized_s_PC12'\n",
       "23. 'harmonized_s_PC13'\n",
       "24. 'harmonized_s_PC14'\n",
       "25. 'harmonized_s_PC15'\n",
       "26. 'harmonized_s_PC16'\n",
       "27. 'harmonized_s_PC17'\n",
       "28. 'harmonized_s_PC18'\n",
       "29. 'harmonized_s_PC19'\n",
       "30. 'harmonized_s_PC20'\n",
       "31. 'harmonized_d_PC1'\n",
       "32. 'harmonized_d_PC2'\n",
       "33. 'harmonized_d_PC3'\n",
       "34. 'harmonized_d_PC4'\n",
       "35. 'harmonized_d_PC5'\n",
       "36. 'harmonized_d_PC6'\n",
       "37. 'harmonized_d_PC7'\n",
       "38. 'harmonized_d_PC8'\n",
       "39. 'harmonized_d_PC9'\n",
       "40. 'harmonized_d_PC10'\n",
       "41. 'harmonized_d_PC11'\n",
       "42. 'harmonized_d_PC12'\n",
       "43. 'harmonized_d_PC13'\n",
       "44. 'harmonized_d_PC14'\n",
       "45. 'harmonized_d_PC15'\n",
       "46. 'harmonized_d_PC16'\n",
       "47. 'harmonized_d_PC17'\n",
       "48. 'harmonized_d_PC18'\n",
       "49. 'harmonized_d_PC19'\n",
       "50. 'harmonized_d_PC20'\n",
       "51. 'harmonized_ds_PC1'\n",
       "52. 'harmonized_ds_PC2'\n",
       "53. 'harmonized_ds_PC3'\n",
       "54. 'harmonized_ds_PC4'\n",
       "55. 'harmonized_ds_PC5'\n",
       "56. 'harmonized_ds_PC6'\n",
       "57. 'harmonized_ds_PC7'\n",
       "58. 'harmonized_ds_PC8'\n",
       "59. 'harmonized_ds_PC9'\n",
       "60. 'harmonized_ds_PC10'\n",
       "61. 'harmonized_ds_PC11'\n",
       "62. 'harmonized_ds_PC12'\n",
       "63. 'harmonized_ds_PC13'\n",
       "64. 'harmonized_ds_PC14'\n",
       "65. 'harmonized_ds_PC15'\n",
       "66. 'harmonized_ds_PC16'\n",
       "67. 'harmonized_ds_PC17'\n",
       "68. 'harmonized_ds_PC18'\n",
       "69. 'harmonized_ds_PC19'\n",
       "70. 'harmonized_ds_PC20'\n",
       "71. 'harmonized_s_UMAP1'\n",
       "72. 'harmonized_s_UMAP2'\n",
       "73. 'harmonized_d_UMAP1'\n",
       "74. 'harmonized_d_UMAP2'\n",
       "75. 'harmonized_ds_UMAP1'\n",
       "76. 'harmonized_ds_UMAP2'\n",
       "77. 'disease_new'\n",
       "78. 's_d'\n",
       "79. 'harmonized_new_PC1'\n",
       "80. 'harmonized_new_PC2'\n",
       "81. 'harmonized_new_PC3'\n",
       "82. 'harmonized_new_PC4'\n",
       "83. 'harmonized_new_PC5'\n",
       "84. 'harmonized_new_PC6'\n",
       "85. 'harmonized_new_PC7'\n",
       "86. 'harmonized_new_PC8'\n",
       "87. 'harmonized_new_PC9'\n",
       "88. 'harmonized_new_PC10'\n",
       "89. 'harmonized_new_PC11'\n",
       "90. 'harmonized_new_PC12'\n",
       "91. 'harmonized_new_PC13'\n",
       "92. 'harmonized_new_PC14'\n",
       "93. 'harmonized_new_PC15'\n",
       "94. 'harmonized_new_PC16'\n",
       "95. 'harmonized_new_PC17'\n",
       "96. 'harmonized_new_PC18'\n",
       "97. 'harmonized_new_PC19'\n",
       "98. 'harmonized_new_PC20'\n",
       "99. 'harmonized_new_UMAP1'\n",
       "100. 'harmonized_new_UMAP2'\n",
       "101. 'harmonized_new2_UMAP1'\n",
       "102. 'harmonized_new2_UMAP2'\n",
       "103. 'res_0.20'\n",
       "104. 'res_0.40'\n",
       "105. 'res_0.60'\n",
       "106. 'gene'\n",
       "107. 'res_0.20_annot'\n",
       "\n",
       "\n"
      ],
      "text/plain": [
       "  [1] \"cell\"                  \"dataset\"               \"technology\"           \n",
       "  [4] \"sample\"                \"disease\"               \"cell_type\"            \n",
       "  [7] \"nUMI\"                  \"nGene\"                 \"percent_mito\"         \n",
       " [10] \"percent.ribo\"          \"harmonized_s_PC1\"      \"harmonized_s_PC2\"     \n",
       " [13] \"harmonized_s_PC3\"      \"harmonized_s_PC4\"      \"harmonized_s_PC5\"     \n",
       " [16] \"harmonized_s_PC6\"      \"harmonized_s_PC7\"      \"harmonized_s_PC8\"     \n",
       " [19] \"harmonized_s_PC9\"      \"harmonized_s_PC10\"     \"harmonized_s_PC11\"    \n",
       " [22] \"harmonized_s_PC12\"     \"harmonized_s_PC13\"     \"harmonized_s_PC14\"    \n",
       " [25] \"harmonized_s_PC15\"     \"harmonized_s_PC16\"     \"harmonized_s_PC17\"    \n",
       " [28] \"harmonized_s_PC18\"     \"harmonized_s_PC19\"     \"harmonized_s_PC20\"    \n",
       " [31] \"harmonized_d_PC1\"      \"harmonized_d_PC2\"      \"harmonized_d_PC3\"     \n",
       " [34] \"harmonized_d_PC4\"      \"harmonized_d_PC5\"      \"harmonized_d_PC6\"     \n",
       " [37] \"harmonized_d_PC7\"      \"harmonized_d_PC8\"      \"harmonized_d_PC9\"     \n",
       " [40] \"harmonized_d_PC10\"     \"harmonized_d_PC11\"     \"harmonized_d_PC12\"    \n",
       " [43] \"harmonized_d_PC13\"     \"harmonized_d_PC14\"     \"harmonized_d_PC15\"    \n",
       " [46] \"harmonized_d_PC16\"     \"harmonized_d_PC17\"     \"harmonized_d_PC18\"    \n",
       " [49] \"harmonized_d_PC19\"     \"harmonized_d_PC20\"     \"harmonized_ds_PC1\"    \n",
       " [52] \"harmonized_ds_PC2\"     \"harmonized_ds_PC3\"     \"harmonized_ds_PC4\"    \n",
       " [55] \"harmonized_ds_PC5\"     \"harmonized_ds_PC6\"     \"harmonized_ds_PC7\"    \n",
       " [58] \"harmonized_ds_PC8\"     \"harmonized_ds_PC9\"     \"harmonized_ds_PC10\"   \n",
       " [61] \"harmonized_ds_PC11\"    \"harmonized_ds_PC12\"    \"harmonized_ds_PC13\"   \n",
       " [64] \"harmonized_ds_PC14\"    \"harmonized_ds_PC15\"    \"harmonized_ds_PC16\"   \n",
       " [67] \"harmonized_ds_PC17\"    \"harmonized_ds_PC18\"    \"harmonized_ds_PC19\"   \n",
       " [70] \"harmonized_ds_PC20\"    \"harmonized_s_UMAP1\"    \"harmonized_s_UMAP2\"   \n",
       " [73] \"harmonized_d_UMAP1\"    \"harmonized_d_UMAP2\"    \"harmonized_ds_UMAP1\"  \n",
       " [76] \"harmonized_ds_UMAP2\"   \"disease_new\"           \"s_d\"                  \n",
       " [79] \"harmonized_new_PC1\"    \"harmonized_new_PC2\"    \"harmonized_new_PC3\"   \n",
       " [82] \"harmonized_new_PC4\"    \"harmonized_new_PC5\"    \"harmonized_new_PC6\"   \n",
       " [85] \"harmonized_new_PC7\"    \"harmonized_new_PC8\"    \"harmonized_new_PC9\"   \n",
       " [88] \"harmonized_new_PC10\"   \"harmonized_new_PC11\"   \"harmonized_new_PC12\"  \n",
       " [91] \"harmonized_new_PC13\"   \"harmonized_new_PC14\"   \"harmonized_new_PC15\"  \n",
       " [94] \"harmonized_new_PC16\"   \"harmonized_new_PC17\"   \"harmonized_new_PC18\"  \n",
       " [97] \"harmonized_new_PC19\"   \"harmonized_new_PC20\"   \"harmonized_new_UMAP1\" \n",
       "[100] \"harmonized_new_UMAP2\"  \"harmonized_new2_UMAP1\" \"harmonized_new2_UMAP2\"\n",
       "[103] \"res_0.20\"              \"res_0.40\"              \"res_0.60\"             \n",
       "[106] \"gene\"                  \"res_0.20_annot\"       "
      ]
     },
     "metadata": {},
     "output_type": "display_data"
    },
    {
     "data": {
      "text/html": [
       "<table>\n",
       "<thead><tr><th scope=col>sample</th><th scope=col>disease</th><th scope=col>dataset</th><th scope=col>res_0.20_annot</th></tr></thead>\n",
       "<tbody>\n",
       "\t<tr><td>301-0159    </td><td>OA          </td><td>AMP RA      </td><td>MRC1+ FABP4+</td></tr>\n",
       "\t<tr><td>301-0159    </td><td>OA          </td><td>AMP RA      </td><td>MRC1+ FABP4+</td></tr>\n",
       "\t<tr><td>301-0159    </td><td>OA          </td><td>AMP RA      </td><td>MRC1+ FABP4+</td></tr>\n",
       "\t<tr><td>301-0159    </td><td>OA          </td><td>AMP RA      </td><td>MRC1+ FABP4+</td></tr>\n",
       "</tbody>\n",
       "</table>\n"
      ],
      "text/latex": [
       "\\begin{tabular}{r|llll}\n",
       " sample & disease & dataset & res\\_0.20\\_annot\\\\\n",
       "\\hline\n",
       "\t 301-0159     & OA           & AMP RA       & MRC1+ FABP4+\\\\\n",
       "\t 301-0159     & OA           & AMP RA       & MRC1+ FABP4+\\\\\n",
       "\t 301-0159     & OA           & AMP RA       & MRC1+ FABP4+\\\\\n",
       "\t 301-0159     & OA           & AMP RA       & MRC1+ FABP4+\\\\\n",
       "\\end{tabular}\n"
      ],
      "text/markdown": [
       "\n",
       "| sample | disease | dataset | res_0.20_annot |\n",
       "|---|---|---|---|\n",
       "| 301-0159     | OA           | AMP RA       | MRC1+ FABP4+ |\n",
       "| 301-0159     | OA           | AMP RA       | MRC1+ FABP4+ |\n",
       "| 301-0159     | OA           | AMP RA       | MRC1+ FABP4+ |\n",
       "| 301-0159     | OA           | AMP RA       | MRC1+ FABP4+ |\n",
       "\n"
      ],
      "text/plain": [
       "  sample   disease dataset res_0.20_annot\n",
       "1 301-0159 OA      AMP RA  MRC1+ FABP4+  \n",
       "2 301-0159 OA      AMP RA  MRC1+ FABP4+  \n",
       "3 301-0159 OA      AMP RA  MRC1+ FABP4+  \n",
       "4 301-0159 OA      AMP RA  MRC1+ FABP4+  "
      ]
     },
     "metadata": {},
     "output_type": "display_data"
    }
   ],
   "source": [
    "meta_all <- readRDS(\"meta_all_weighted_macropahge_cosine_s_d_ds_new_cluster_2020_07_01.rds\")\n",
    "meta_all$cell <- as.character(meta_all$cell)\n",
    "rownames(meta_all) <- meta_all$cell  \n",
    "colnames(meta_all)\n",
    "\n",
    "meta_all[1:4, c(\"sample\", \"disease\", \"dataset\", \"res_0.20_annot\")]"
   ]
  },
  {
   "cell_type": "code",
   "execution_count": 4,
   "metadata": {},
   "outputs": [
    {
     "data": {
      "text/html": [
       "108"
      ],
      "text/latex": [
       "108"
      ],
      "text/markdown": [
       "108"
      ],
      "text/plain": [
       "[1] 108"
      ]
     },
     "metadata": {},
     "output_type": "display_data"
    },
    {
     "data": {
      "text/plain": [
       "\n",
       "                   CM0                    CM1                    CM2 \n",
       "                    96                    107                     21 \n",
       "                   CM3                    CM4      Cycling Monocytes \n",
       "                    13                     45                     22 \n",
       "Inflammatory Monocytes            Macrophages                myeloid \n",
       "                  1207                   7986                   2221 \n",
       " No Old Anotation lung                   Null                   NULL \n",
       "                 11484                   2838                  47738 \n",
       "                 SC-M1                  SC-M2                  SC-M3 \n",
       "                   267                    214                     71 \n",
       "                 SC-M4 \n",
       "                    43 "
      ]
     },
     "metadata": {},
     "output_type": "display_data"
    },
    {
     "data": {
      "text/plain": [
       "\n",
       "  AMP RA  AMP SLE COVID-19      IBD     Lung   Martin    Rahul \n",
       "     595      282    47738     9215    11484     2221     2838 "
      ]
     },
     "metadata": {},
     "output_type": "display_data"
    },
    {
     "data": {
      "text/plain": [
       "\n",
       "        FCN1+ IL1B+ CXCL10+   Macropahges  MRC1+ FABP4+ \n",
       "         7082         13453          9786         44052 "
      ]
     },
     "metadata": {},
     "output_type": "display_data"
    },
    {
     "data": {
      "text/html": [
       "<table>\n",
       "<thead><tr><th scope=col>harmonized_new_PC1</th><th scope=col>harmonized_new_PC2</th><th scope=col>harmonized_new_PC3</th><th scope=col>harmonized_new_PC4</th><th scope=col>harmonized_new_PC5</th><th scope=col>harmonized_new_PC6</th><th scope=col>harmonized_new_PC7</th><th scope=col>harmonized_new_PC8</th><th scope=col>harmonized_new_PC9</th><th scope=col>harmonized_new_PC10</th><th scope=col>harmonized_new_PC11</th><th scope=col>harmonized_new_PC12</th><th scope=col>harmonized_new_PC13</th><th scope=col>harmonized_new_PC14</th><th scope=col>harmonized_new_PC15</th><th scope=col>harmonized_new_PC16</th><th scope=col>harmonized_new_PC17</th><th scope=col>harmonized_new_PC18</th><th scope=col>harmonized_new_PC19</th><th scope=col>harmonized_new_PC20</th></tr></thead>\n",
       "<tbody>\n",
       "\t<tr><td>8.310091   </td><td>-6.601238  </td><td> 1.089894  </td><td>-2.3135787 </td><td> 4.309788  </td><td>-2.3876351 </td><td>3.435042   </td><td>-1.195929  </td><td> 5.3969234 </td><td> 2.8637913 </td><td>-0.09283988</td><td>-1.271977  </td><td>-3.258906  </td><td> 2.748087  </td><td>-0.9238324 </td><td> 1.72880449</td><td>5.920630   </td><td> 0.07740935</td><td> 0.8416386 </td><td> 0.04964062</td></tr>\n",
       "\t<tr><td>5.130697   </td><td>-3.549763  </td><td>-2.874635  </td><td>-2.0113034 </td><td>12.510071  </td><td> 6.3011716 </td><td>1.404219   </td><td>-3.651048  </td><td>-0.3094158 </td><td> 0.1482141 </td><td> 2.66901235</td><td> 4.996588  </td><td>-5.325767  </td><td>-1.435692  </td><td>-5.8399897 </td><td> 0.03544453</td><td>3.919193   </td><td> 0.71228639</td><td>-2.2873844 </td><td>-5.64913735</td></tr>\n",
       "\t<tr><td>8.624229   </td><td> 3.668255  </td><td>-2.097424  </td><td>-3.5291570 </td><td> 5.445644  </td><td>-3.6222817 </td><td>5.374599   </td><td> 1.721332  </td><td>-5.4143730 </td><td>-1.5810743 </td><td> 0.47909751</td><td> 8.763972  </td><td>-7.325151  </td><td> 0.515196  </td><td>-0.7922723 </td><td>-0.17241080</td><td>3.097281   </td><td>-0.34302764</td><td>-6.0605748 </td><td>-0.53765841</td></tr>\n",
       "\t<tr><td>3.808633   </td><td>-4.558980  </td><td>-4.107581  </td><td>-0.1640838 </td><td> 9.583048  </td><td> 0.2130112 </td><td>2.186485   </td><td>-0.799584  </td><td> 2.5156392 </td><td> 0.1258370 </td><td> 4.79197059</td><td> 1.173944  </td><td>-5.701122  </td><td>-1.809708  </td><td>-6.2876647 </td><td>-3.89286278</td><td>2.838593   </td><td>-0.39407403</td><td> 1.2890874 </td><td>-4.79605934</td></tr>\n",
       "</tbody>\n",
       "</table>\n"
      ],
      "text/latex": [
       "\\begin{tabular}{r|llllllllllllllllllll}\n",
       " harmonized\\_new\\_PC1 & harmonized\\_new\\_PC2 & harmonized\\_new\\_PC3 & harmonized\\_new\\_PC4 & harmonized\\_new\\_PC5 & harmonized\\_new\\_PC6 & harmonized\\_new\\_PC7 & harmonized\\_new\\_PC8 & harmonized\\_new\\_PC9 & harmonized\\_new\\_PC10 & harmonized\\_new\\_PC11 & harmonized\\_new\\_PC12 & harmonized\\_new\\_PC13 & harmonized\\_new\\_PC14 & harmonized\\_new\\_PC15 & harmonized\\_new\\_PC16 & harmonized\\_new\\_PC17 & harmonized\\_new\\_PC18 & harmonized\\_new\\_PC19 & harmonized\\_new\\_PC20\\\\\n",
       "\\hline\n",
       "\t 8.310091    & -6.601238   &  1.089894   & -2.3135787  &  4.309788   & -2.3876351  & 3.435042    & -1.195929   &  5.3969234  &  2.8637913  & -0.09283988 & -1.271977   & -3.258906   &  2.748087   & -0.9238324  &  1.72880449 & 5.920630    &  0.07740935 &  0.8416386  &  0.04964062\\\\\n",
       "\t 5.130697    & -3.549763   & -2.874635   & -2.0113034  & 12.510071   &  6.3011716  & 1.404219    & -3.651048   & -0.3094158  &  0.1482141  &  2.66901235 &  4.996588   & -5.325767   & -1.435692   & -5.8399897  &  0.03544453 & 3.919193    &  0.71228639 & -2.2873844  & -5.64913735\\\\\n",
       "\t 8.624229    &  3.668255   & -2.097424   & -3.5291570  &  5.445644   & -3.6222817  & 5.374599    &  1.721332   & -5.4143730  & -1.5810743  &  0.47909751 &  8.763972   & -7.325151   &  0.515196   & -0.7922723  & -0.17241080 & 3.097281    & -0.34302764 & -6.0605748  & -0.53765841\\\\\n",
       "\t 3.808633    & -4.558980   & -4.107581   & -0.1640838  &  9.583048   &  0.2130112  & 2.186485    & -0.799584   &  2.5156392  &  0.1258370  &  4.79197059 &  1.173944   & -5.701122   & -1.809708   & -6.2876647  & -3.89286278 & 2.838593    & -0.39407403 &  1.2890874  & -4.79605934\\\\\n",
       "\\end{tabular}\n"
      ],
      "text/markdown": [
       "\n",
       "| harmonized_new_PC1 | harmonized_new_PC2 | harmonized_new_PC3 | harmonized_new_PC4 | harmonized_new_PC5 | harmonized_new_PC6 | harmonized_new_PC7 | harmonized_new_PC8 | harmonized_new_PC9 | harmonized_new_PC10 | harmonized_new_PC11 | harmonized_new_PC12 | harmonized_new_PC13 | harmonized_new_PC14 | harmonized_new_PC15 | harmonized_new_PC16 | harmonized_new_PC17 | harmonized_new_PC18 | harmonized_new_PC19 | harmonized_new_PC20 |\n",
       "|---|---|---|---|---|---|---|---|---|---|---|---|---|---|---|---|---|---|---|---|\n",
       "| 8.310091    | -6.601238   |  1.089894   | -2.3135787  |  4.309788   | -2.3876351  | 3.435042    | -1.195929   |  5.3969234  |  2.8637913  | -0.09283988 | -1.271977   | -3.258906   |  2.748087   | -0.9238324  |  1.72880449 | 5.920630    |  0.07740935 |  0.8416386  |  0.04964062 |\n",
       "| 5.130697    | -3.549763   | -2.874635   | -2.0113034  | 12.510071   |  6.3011716  | 1.404219    | -3.651048   | -0.3094158  |  0.1482141  |  2.66901235 |  4.996588   | -5.325767   | -1.435692   | -5.8399897  |  0.03544453 | 3.919193    |  0.71228639 | -2.2873844  | -5.64913735 |\n",
       "| 8.624229    |  3.668255   | -2.097424   | -3.5291570  |  5.445644   | -3.6222817  | 5.374599    |  1.721332   | -5.4143730  | -1.5810743  |  0.47909751 |  8.763972   | -7.325151   |  0.515196   | -0.7922723  | -0.17241080 | 3.097281    | -0.34302764 | -6.0605748  | -0.53765841 |\n",
       "| 3.808633    | -4.558980   | -4.107581   | -0.1640838  |  9.583048   |  0.2130112  | 2.186485    | -0.799584   |  2.5156392  |  0.1258370  |  4.79197059 |  1.173944   | -5.701122   | -1.809708   | -6.2876647  | -3.89286278 | 2.838593    | -0.39407403 |  1.2890874  | -4.79605934 |\n",
       "\n"
      ],
      "text/plain": [
       "  harmonized_new_PC1 harmonized_new_PC2 harmonized_new_PC3 harmonized_new_PC4\n",
       "1 8.310091           -6.601238           1.089894          -2.3135787        \n",
       "2 5.130697           -3.549763          -2.874635          -2.0113034        \n",
       "3 8.624229            3.668255          -2.097424          -3.5291570        \n",
       "4 3.808633           -4.558980          -4.107581          -0.1640838        \n",
       "  harmonized_new_PC5 harmonized_new_PC6 harmonized_new_PC7 harmonized_new_PC8\n",
       "1  4.309788          -2.3876351         3.435042           -1.195929         \n",
       "2 12.510071           6.3011716         1.404219           -3.651048         \n",
       "3  5.445644          -3.6222817         5.374599            1.721332         \n",
       "4  9.583048           0.2130112         2.186485           -0.799584         \n",
       "  harmonized_new_PC9 harmonized_new_PC10 harmonized_new_PC11\n",
       "1  5.3969234          2.8637913          -0.09283988        \n",
       "2 -0.3094158          0.1482141           2.66901235        \n",
       "3 -5.4143730         -1.5810743           0.47909751        \n",
       "4  2.5156392          0.1258370           4.79197059        \n",
       "  harmonized_new_PC12 harmonized_new_PC13 harmonized_new_PC14\n",
       "1 -1.271977           -3.258906            2.748087          \n",
       "2  4.996588           -5.325767           -1.435692          \n",
       "3  8.763972           -7.325151            0.515196          \n",
       "4  1.173944           -5.701122           -1.809708          \n",
       "  harmonized_new_PC15 harmonized_new_PC16 harmonized_new_PC17\n",
       "1 -0.9238324           1.72880449         5.920630           \n",
       "2 -5.8399897           0.03544453         3.919193           \n",
       "3 -0.7922723          -0.17241080         3.097281           \n",
       "4 -6.2876647          -3.89286278         2.838593           \n",
       "  harmonized_new_PC18 harmonized_new_PC19 harmonized_new_PC20\n",
       "1  0.07740935          0.8416386           0.04964062        \n",
       "2  0.71228639         -2.2873844          -5.64913735        \n",
       "3 -0.34302764         -6.0605748          -0.53765841        \n",
       "4 -0.39407403          1.2890874          -4.79605934        "
      ]
     },
     "metadata": {},
     "output_type": "display_data"
    }
   ],
   "source": [
    "length(table(meta_all$sample))\n",
    "table(meta_all$cell_type)\n",
    "table(meta_all$dataset)\n",
    "table(meta_all$res_0.20_annot)\n",
    "\n",
    "meta_all[1:4, c(79:98)]"
   ]
  },
  {
   "cell_type": "code",
   "execution_count": 22,
   "metadata": {},
   "outputs": [
    {
     "data": {
      "text/html": [
       "<table>\n",
       "<thead><tr><th scope=col>key</th><th scope=col>val</th></tr></thead>\n",
       "<tbody>\n",
       "\t<tr><td>sample  </td><td>8.837022</td></tr>\n",
       "\t<tr><td>sample  </td><td>1.350528</td></tr>\n",
       "\t<tr><td>sample  </td><td>5.694128</td></tr>\n",
       "\t<tr><td>sample  </td><td>3.248347</td></tr>\n",
       "</tbody>\n",
       "</table>\n"
      ],
      "text/latex": [
       "\\begin{tabular}{r|ll}\n",
       " key & val\\\\\n",
       "\\hline\n",
       "\t sample   & 8.837022\\\\\n",
       "\t sample   & 1.350528\\\\\n",
       "\t sample   & 5.694128\\\\\n",
       "\t sample   & 3.248347\\\\\n",
       "\\end{tabular}\n"
      ],
      "text/markdown": [
       "\n",
       "| key | val |\n",
       "|---|---|\n",
       "| sample   | 8.837022 |\n",
       "| sample   | 1.350528 |\n",
       "| sample   | 5.694128 |\n",
       "| sample   | 3.248347 |\n",
       "\n"
      ],
      "text/plain": [
       "  key    val     \n",
       "1 sample 8.837022\n",
       "2 sample 1.350528\n",
       "3 sample 5.694128\n",
       "4 sample 3.248347"
      ]
     },
     "metadata": {},
     "output_type": "display_data"
    }
   ],
   "source": [
    "# res <- compute_lisi(x, x_meta_all, c(\"sample\", \"site\"), perplexity=30, nn_eps=0)\n",
    "# res <- compute_lisi(x, x_meta_all, c(\"dataset\", \"sample\", \"cell_type\", \"disease\", \"res_0.30\"), perplexity=30, nn_eps=0)\n",
    "\n",
    "lisi_res <- rbind(\n",
    "    lisi::compute_lisi(meta_all[,c(79:98)], meta_all, c(\"sample\", \"disease\", \"dataset\", \"res_0.20_annot\"))\n",
    ") %>% \n",
    "    tidyr::gather(key, val, sample, disease, dataset, res_0.20_annot)\n",
    "\n",
    "lisi_res[1:4,]\n",
    "\n",
    "saveRDS(lisi_res, \"LISI_macrophage_after_harmony_2020-06-10.rds\")"
   ]
  },
  {
   "cell_type": "code",
   "execution_count": 9,
   "metadata": {},
   "outputs": [],
   "source": [
    "lisi_res <- readRDS(\"LISI_macrophage_after_harmony_2020-06-10.rds\")"
   ]
  },
  {
   "cell_type": "code",
   "execution_count": null,
   "metadata": {},
   "outputs": [],
   "source": [
    "options(repr.plot.height = 2, repr.plot.width = 3)\n",
    "\n",
    "ggplot(lisi_res[which(lisi_res$key == \"sample\"),]) +\n",
    "    geom_density(\n",
    "        aes(x  = val)\n",
    "    ) +\n",
    "#   scale_x_continuous(limits = c(1, 15))+\n",
    "  labs(\n",
    "      x = \"LISI score\",\n",
    "      y = \"Density\",\n",
    "#       title = paste0(\"Mixing of \", length(table(meta_all$sample)),\" samples\", sep=\"\")\n",
    "      title = \"Sample\"\n",
    "      ) +\n",
    "  theme_classic(base_size = 15) +\n",
    "  theme(\n",
    "    legend.position = \"none\",\n",
    "    axis.text.y = element_blank(),\n",
    "    axis.ticks = element_blank(),\n",
    "    panel.grid = element_blank(),\n",
    "    plot.title = element_text(color=\"black\", size=14)\n",
    "  )\n",
    "ggsave(\"LISI_macro_after_harmony_sample.pdf\", width = 3, height = 2)\n",
    "\n",
    "\n",
    "ggplot(lisi_res[which(lisi_res$key == \"dataset\"),]) +\n",
    "    geom_density(\n",
    "        aes(x  = val)\n",
    "    ) +\n",
    "  scale_x_continuous(limits = c(1, 6))+\n",
    "  labs(\n",
    "      x = \"LISI score\",\n",
    "      y = \"Density\",\n",
    "      title = paste0(\"Mixing of 6 tissue sources\", sep=\"\")\n",
    "      ) +\n",
    "  theme_classic(base_size = 15) +\n",
    "  theme(\n",
    "    legend.position = \"none\",\n",
    "    axis.text.y = element_blank(),\n",
    "    axis.ticks = element_blank(),\n",
    "    panel.grid = element_blank(),\n",
    "    plot.title = element_text(color=\"black\", size=14)\n",
    "  )\n",
    "ggsave(\"LISI_macro_after_harmony_tissue.pdf\", width = 3, height = 2)\n",
    "\n",
    "\n",
    "\n",
    "ggplot(lisi_res[which(lisi_res$key == \"res_0.20_annot\"),]) +\n",
    "    geom_density(\n",
    "        aes(x  = val)\n",
    "    ) +\n",
    "  labs(\n",
    "      x = \"LISI score\",\n",
    "      y = \"Density\",\n",
    "      title = paste0(\"Mixing of \", length(table(meta_all$res_0.20_annot)),\" macrophage subsets\", sep=\"\")\n",
    "      ) +\n",
    "  theme_classic(base_size = 15) +\n",
    "  theme(\n",
    "    legend.position = \"none\",\n",
    "    axis.text.y = element_blank(),\n",
    "    axis.ticks = element_blank(),\n",
    "    panel.grid = element_blank(),\n",
    "    plot.title = element_text(color=\"black\", size=14)\n",
    "  )\n",
    "ggsave(\"LISI_macro_after_harmony_subsets.pdf\", width = 3, height = 2)\n",
    "\n"
   ]
  },
  {
   "cell_type": "markdown",
   "metadata": {},
   "source": [
    "## Load the before harmonization embeddings"
   ]
  },
  {
   "cell_type": "code",
   "execution_count": 30,
   "metadata": {},
   "outputs": [
    {
     "data": {
      "text/html": [
       "<ol class=list-inline>\n",
       "\t<li>74475</li>\n",
       "\t<li>20</li>\n",
       "</ol>\n"
      ],
      "text/latex": [
       "\\begin{enumerate*}\n",
       "\\item 74475\n",
       "\\item 20\n",
       "\\end{enumerate*}\n"
      ],
      "text/markdown": [
       "1. 74475\n",
       "2. 20\n",
       "\n",
       "\n"
      ],
      "text/plain": [
       "[1] 74475    20"
      ]
     },
     "metadata": {},
     "output_type": "display_data"
    },
    {
     "data": {
      "text/html": [
       "TRUE"
      ],
      "text/latex": [
       "TRUE"
      ],
      "text/markdown": [
       "TRUE"
      ],
      "text/plain": [
       "[1] TRUE"
      ]
     },
     "metadata": {},
     "output_type": "display_data"
    },
    {
     "data": {
      "text/html": [
       "<ol class=list-inline>\n",
       "\t<li>74373</li>\n",
       "\t<li>24</li>\n",
       "</ol>\n"
      ],
      "text/latex": [
       "\\begin{enumerate*}\n",
       "\\item 74373\n",
       "\\item 24\n",
       "\\end{enumerate*}\n"
      ],
      "text/markdown": [
       "1. 74373\n",
       "2. 24\n",
       "\n",
       "\n"
      ],
      "text/plain": [
       "[1] 74373    24"
      ]
     },
     "metadata": {},
     "output_type": "display_data"
    }
   ],
   "source": [
    "pca_res <- readRDS(\"pca_res_2020-06-09.rds\")\n",
    "pca_res <- as.data.frame(pca_res)\n",
    "dim(pca_res)\n",
    "\n",
    "pca_res <- pca_res[which(rownames(pca_res) %in% meta_all$cell),]\n",
    "all(rownames(pca_res) == meta_all$cell)\n",
    "pca_res$sample <- meta_all$sample\n",
    "pca_res$disease <- meta_all$disease\n",
    "pca_res$dataset <- meta_all$dataset\n",
    "pca_res$res_0.20_annot <- meta_all$res_0.20_annot\n",
    "dim(pca_res)\n",
    "\n",
    "# c(\"sample\", \"disease\", \"dataset\", \"res_0.20_annot\")"
   ]
  },
  {
   "cell_type": "code",
   "execution_count": 31,
   "metadata": {},
   "outputs": [
    {
     "data": {
      "text/html": [
       "<table>\n",
       "<thead><tr><th scope=col>key</th><th scope=col>val</th></tr></thead>\n",
       "<tbody>\n",
       "\t<tr><td>sample  </td><td>3.960202</td></tr>\n",
       "\t<tr><td>sample  </td><td>1.237583</td></tr>\n",
       "\t<tr><td>sample  </td><td>3.058079</td></tr>\n",
       "\t<tr><td>sample  </td><td>1.911853</td></tr>\n",
       "</tbody>\n",
       "</table>\n"
      ],
      "text/latex": [
       "\\begin{tabular}{r|ll}\n",
       " key & val\\\\\n",
       "\\hline\n",
       "\t sample   & 3.960202\\\\\n",
       "\t sample   & 1.237583\\\\\n",
       "\t sample   & 3.058079\\\\\n",
       "\t sample   & 1.911853\\\\\n",
       "\\end{tabular}\n"
      ],
      "text/markdown": [
       "\n",
       "| key | val |\n",
       "|---|---|\n",
       "| sample   | 3.960202 |\n",
       "| sample   | 1.237583 |\n",
       "| sample   | 3.058079 |\n",
       "| sample   | 1.911853 |\n",
       "\n"
      ],
      "text/plain": [
       "  key    val     \n",
       "1 sample 3.960202\n",
       "2 sample 1.237583\n",
       "3 sample 3.058079\n",
       "4 sample 1.911853"
      ]
     },
     "metadata": {},
     "output_type": "display_data"
    }
   ],
   "source": [
    "lisi_res <- rbind(\n",
    "    lisi::compute_lisi(pca_res[,c(1:20)], pca_res, c(\"sample\", \"disease\", \"dataset\", \"res_0.20_annot\"))\n",
    ") %>% \n",
    "    tidyr::gather(key, val, sample, disease, dataset, res_0.20_annot)\n",
    "\n",
    "lisi_res[1:4,]\n",
    "\n",
    "saveRDS(lisi_res, \"LISI_macrophage_before_harmony_2020-06-10.rds\")"
   ]
  },
  {
   "cell_type": "code",
   "execution_count": 7,
   "metadata": {},
   "outputs": [],
   "source": [
    "lisi_res <- readRDS(\"LISI_macrophage_before_harmony_2020-06-10.rds\")"
   ]
  },
  {
   "cell_type": "code",
   "execution_count": 37,
   "metadata": {},
   "outputs": [
    {
     "data": {
      "image/png": "[encoded data removed]",
      "text/plain": [
       "plot without title"
      ]
     },
     "metadata": {},
     "output_type": "display_data"
    },
    {
     "data": {
      "image/png": "[encoded data removed]",
      "text/plain": [
       "plot without title"
      ]
     },
     "metadata": {},
     "output_type": "display_data"
    },
    {
     "data": {
      "image/png": "[encoded data removed]",
      "text/plain": [
       "plot without title"
      ]
     },
     "metadata": {},
     "output_type": "display_data"
    }
   ],
   "source": [
    "options(repr.plot.height = 2, repr.plot.width = 3)\n",
    "\n",
    "ggplot(lisi_res[which(lisi_res$key == \"sample\"),]) +\n",
    "    geom_density(\n",
    "        aes(x  = val)\n",
    "    ) +\n",
    "#   scale_x_continuous(limits = c(1, 15))+\n",
    "  labs(\n",
    "      x = \"LISI score\",\n",
    "      y = \"Density\",\n",
    "#       title = paste0(\"Mixing of \", length(table(meta_all$sample)),\" samples\", sep=\"\")\n",
    "      title = \"Sample\"\n",
    "      ) +\n",
    "  theme_classic(base_size = 15) +\n",
    "  theme(\n",
    "    legend.position = \"none\",\n",
    "    axis.text.y = element_blank(),\n",
    "    axis.ticks = element_blank(),\n",
    "    panel.grid = element_blank(),\n",
    "    plot.title = element_text(color=\"black\", size=14)\n",
    "  )\n",
    "ggsave(\"LISI_macro_before_harmony_sample.pdf\", width = 3, height = 2)\n",
    "\n",
    "\n",
    "ggplot(lisi_res[which(lisi_res$key == \"dataset\"),]) +\n",
    "    geom_density(\n",
    "        aes(x  = val)\n",
    "    ) +\n",
    "#   scale_x_continuous(limits = c(1, 5))+\n",
    "  labs(\n",
    "      x = \"LISI score\",\n",
    "      y = \"Density\",\n",
    "      title = paste0(\"Mixing of 6 tissue sources\", sep=\"\")\n",
    "      ) +\n",
    "  theme_classic(base_size = 15) +\n",
    "  theme(\n",
    "    legend.position = \"none\",\n",
    "    axis.text.y = element_blank(),\n",
    "    axis.ticks = element_blank(),\n",
    "    panel.grid = element_blank(),\n",
    "    plot.title = element_text(color=\"black\", size=14)\n",
    "  )\n",
    "ggsave(\"LISI_macro_before_harmony_tissue.pdf\", width = 3, height = 2)\n",
    "\n",
    "\n",
    "\n",
    "ggplot(lisi_res[which(lisi_res$key == \"res_0.20_annot\"),]) +\n",
    "    geom_density(\n",
    "        aes(x  = val)\n",
    "    ) +\n",
    "#   scale_x_continuous(limits = c(1, 5))+\n",
    "  labs(\n",
    "      x = \"LISI score\",\n",
    "      y = \"Density\",\n",
    "      title = paste0(\"Mixing of \", length(table(meta_all$res_0.20_annot)),\" macrophage subsets\", sep=\"\")\n",
    "      ) +\n",
    "  theme_classic(base_size = 15) +\n",
    "  theme(\n",
    "    legend.position = \"none\",\n",
    "    axis.text.y = element_blank(),\n",
    "    axis.ticks = element_blank(),\n",
    "    panel.grid = element_blank(),\n",
    "    plot.title = element_text(color=\"black\", size=14)\n",
    "  )\n",
    "ggsave(\"LISI_macro_before_harmony_subsets.pdf\", width = 3, height = 2)\n"
   ]
  },
  {
   "cell_type": "code",
   "execution_count": null,
   "metadata": {},
   "outputs": [],
   "source": []
  },
  {
   "cell_type": "code",
   "execution_count": null,
   "metadata": {},
   "outputs": [],
   "source": []
  },
  {
   "cell_type": "code",
   "execution_count": null,
   "metadata": {},
   "outputs": [],
   "source": []
  },
  {
   "cell_type": "code",
   "execution_count": null,
   "metadata": {},
   "outputs": [],
   "source": []
  }
 ],
 "metadata": {
  "kernelspec": {
   "display_name": "R",
   "language": "R",
   "name": "ir"
  },
  "language_info": {
   "codemirror_mode": "r",
   "file_extension": ".r",
   "mimetype": "text/x-r-source",
   "name": "R",
   "pygments_lexer": "r",
   "version": "3.6.1"
  }
 },
 "nbformat": 4,
 "nbformat_minor": 4
}
