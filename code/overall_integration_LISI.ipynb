{
 "cells": [
  {
   "cell_type": "code",
   "execution_count": 2,
   "metadata": {},
   "outputs": [],
   "source": [
    "library(lisi)\n",
    "library(Seurat)\n",
    "library(harmony)\n",
    "library(magrittr)\n",
    "library(gridExtra)\n",
    "library(ggthemes)\n",
    "library(scales)\n",
    "library(pheatmap)\n",
    "library(dplyr)\n",
    "library(monocle)\n",
    "library(reticulate)\n",
    "library(ggbeeswarm)\n",
    "library(ggrepel)\n",
    "library(plyr)\n",
    "library(ggplot2)\n",
    "library(gridExtra)\n",
    "library(ggthemes)\n",
    "library(scales)\n",
    "library(pheatmap)\n",
    "library(dplyr)\n",
    "library(RColorBrewer)\n",
    "library(ggbeeswarm)\n",
    "library(ggrepel)\n",
    "library(patchwork)\n",
    "library(MASS)\n",
    "library(matrixStats)\n",
    "library(viridis)\n",
    "library(pbapply)\n",
    "library(parallel)\n",
    "library(grid)"
   ]
  },
  {
   "cell_type": "markdown",
   "metadata": {},
   "source": [
    "# LISI: (Local inverse Simpson’s index): measures degree of batch mixing in a low-dimensional embedding\n",
    "#### \"Instead of a fixed number of nearest neighbors as in the case of kBET, LISI selects the nearest neighbors based on the local distribution of distances with a fixed perplexity\"\n",
    "#### \"The selected neighbors are then used to compute the inverse Simpson’s index for diversity, which is the effective number of types present in this neighborhood\""
   ]
  },
  {
   "cell_type": "markdown",
   "metadata": {},
   "source": [
    "## After harmony correction"
   ]
  },
  {
   "cell_type": "code",
   "execution_count": 6,
   "metadata": {},
   "outputs": [
    {
     "data": {
      "text/html": [
       "<table>\n",
       "<thead><tr><th scope=col>sample</th><th scope=col>broad_cell_type_nk_dc</th><th scope=col>tissue</th><th scope=col>technology</th></tr></thead>\n",
       "<tbody>\n",
       "\t<tr><td>301-0159</td><td>T cells </td><td>Synovium</td><td>CEL-Seq2</td></tr>\n",
       "\t<tr><td>301-0159</td><td>T cells </td><td>Synovium</td><td>CEL-Seq2</td></tr>\n",
       "\t<tr><td>301-0159</td><td>T cells </td><td>Synovium</td><td>CEL-Seq2</td></tr>\n",
       "\t<tr><td>301-0159</td><td>T cells </td><td>Synovium</td><td>CEL-Seq2</td></tr>\n",
       "</tbody>\n",
       "</table>\n"
      ],
      "text/latex": [
       "\\begin{tabular}{r|llll}\n",
       " sample & broad\\_cell\\_type\\_nk\\_dc & tissue & technology\\\\\n",
       "\\hline\n",
       "\t 301-0159 & T cells  & Synovium & CEL-Seq2\\\\\n",
       "\t 301-0159 & T cells  & Synovium & CEL-Seq2\\\\\n",
       "\t 301-0159 & T cells  & Synovium & CEL-Seq2\\\\\n",
       "\t 301-0159 & T cells  & Synovium & CEL-Seq2\\\\\n",
       "\\end{tabular}\n"
      ],
      "text/markdown": [
       "\n",
       "| sample | broad_cell_type_nk_dc | tissue | technology |\n",
       "|---|---|---|---|\n",
       "| 301-0159 | T cells  | Synovium | CEL-Seq2 |\n",
       "| 301-0159 | T cells  | Synovium | CEL-Seq2 |\n",
       "| 301-0159 | T cells  | Synovium | CEL-Seq2 |\n",
       "| 301-0159 | T cells  | Synovium | CEL-Seq2 |\n",
       "\n"
      ],
      "text/plain": [
       "  sample   broad_cell_type_nk_dc tissue   technology\n",
       "1 301-0159 T cells               Synovium CEL-Seq2  \n",
       "2 301-0159 T cells               Synovium CEL-Seq2  \n",
       "3 301-0159 T cells               Synovium CEL-Seq2  \n",
       "4 301-0159 T cells               Synovium CEL-Seq2  "
      ]
     },
     "metadata": {},
     "output_type": "display_data"
    }
   ],
   "source": [
    "meta_all <- readRDS(\"meta_all_COVID19_RA_Rahul_SLE_UC_Crohn_MS_lung_pca_umap_harmony_umap_cluster_new_new_new_2020-05-26.rds\")\n",
    "meta_all$cell <- as.character(meta_all$cell)\n",
    "rownames(meta_all) <- meta_all$cell  \n",
    "meta_all[1:4, c(\"sample\", \"broad_cell_type_nk_dc\", \"tissue\", \"technology\")]"
   ]
  },
  {
   "cell_type": "code",
   "execution_count": 23,
   "metadata": {},
   "outputs": [
    {
     "data": {
      "text/html": [
       "158"
      ],
      "text/latex": [
       "158"
      ],
      "text/markdown": [
       "158"
      ],
      "text/plain": [
       "[1] 158"
      ]
     },
     "metadata": {},
     "output_type": "display_data"
    },
    {
     "data": {
      "text/plain": [
       "\n",
       "    BALF    Brain    Colon    Ileum   Kidney     Lung Synovium \n",
       "   65918     1086   140069    46576     2678    41563    11658 "
      ]
     },
     "metadata": {},
     "output_type": "display_data"
    }
   ],
   "source": [
    "length(table(meta_all$sample))\n",
    "table(meta_all$tissue)"
   ]
  },
  {
   "cell_type": "code",
   "execution_count": 11,
   "metadata": {},
   "outputs": [
    {
     "data": {
      "text/html": [
       "<table>\n",
       "<thead><tr><th scope=col>key</th><th scope=col>val</th></tr></thead>\n",
       "<tbody>\n",
       "\t<tr><td>sample   </td><td>10.326378</td></tr>\n",
       "\t<tr><td>sample   </td><td> 6.698756</td></tr>\n",
       "\t<tr><td>sample   </td><td> 8.725586</td></tr>\n",
       "\t<tr><td>sample   </td><td> 8.660591</td></tr>\n",
       "</tbody>\n",
       "</table>\n"
      ],
      "text/latex": [
       "\\begin{tabular}{r|ll}\n",
       " key & val\\\\\n",
       "\\hline\n",
       "\t sample    & 10.326378\\\\\n",
       "\t sample    &  6.698756\\\\\n",
       "\t sample    &  8.725586\\\\\n",
       "\t sample    &  8.660591\\\\\n",
       "\\end{tabular}\n"
      ],
      "text/markdown": [
       "\n",
       "| key | val |\n",
       "|---|---|\n",
       "| sample    | 10.326378 |\n",
       "| sample    |  6.698756 |\n",
       "| sample    |  8.725586 |\n",
       "| sample    |  8.660591 |\n",
       "\n"
      ],
      "text/plain": [
       "  key    val      \n",
       "1 sample 10.326378\n",
       "2 sample  6.698756\n",
       "3 sample  8.725586\n",
       "4 sample  8.660591"
      ]
     },
     "metadata": {},
     "output_type": "display_data"
    }
   ],
   "source": [
    "# res <- compute_lisi(x, x_meta_all, c(\"sample\", \"site\"), perplexity=30, nn_eps=0)\n",
    "# res <- compute_lisi(x, x_meta_all, c(\"dataset\", \"sample\", \"cell_type\", \"disease\", \"res_0.30\"), perplexity=30, nn_eps=0)\n",
    "\n",
    "lisi_res <- rbind(\n",
    "    lisi::compute_lisi(meta_all[,c(31:40)], meta_all, c(\"sample\", \"broad_cell_type_nk_dc\", \"tissue\", \"technology\"))\n",
    ") %>% \n",
    "    tidyr::gather(key, val, sample, broad_cell_type_nk_dc, tissue, technology)\n",
    "\n",
    "lisi_res[1:4,]\n",
    "\n",
    "saveRDS(lisi_res, \"LISI_after_harmony_2020-05-30.rds\")"
   ]
  },
  {
   "cell_type": "code",
   "execution_count": 3,
   "metadata": {},
   "outputs": [
    {
     "data": {
      "text/html": [
       "<table>\n",
       "<thead><tr><th scope=col>key</th><th scope=col>val</th></tr></thead>\n",
       "<tbody>\n",
       "\t<tr><td>sample   </td><td>10.326378</td></tr>\n",
       "\t<tr><td>sample   </td><td> 6.698756</td></tr>\n",
       "\t<tr><td>sample   </td><td> 8.725586</td></tr>\n",
       "\t<tr><td>sample   </td><td> 8.660591</td></tr>\n",
       "</tbody>\n",
       "</table>\n"
      ],
      "text/latex": [
       "\\begin{tabular}{r|ll}\n",
       " key & val\\\\\n",
       "\\hline\n",
       "\t sample    & 10.326378\\\\\n",
       "\t sample    &  6.698756\\\\\n",
       "\t sample    &  8.725586\\\\\n",
       "\t sample    &  8.660591\\\\\n",
       "\\end{tabular}\n"
      ],
      "text/markdown": [
       "\n",
       "| key | val |\n",
       "|---|---|\n",
       "| sample    | 10.326378 |\n",
       "| sample    |  6.698756 |\n",
       "| sample    |  8.725586 |\n",
       "| sample    |  8.660591 |\n",
       "\n"
      ],
      "text/plain": [
       "  key    val      \n",
       "1 sample 10.326378\n",
       "2 sample  6.698756\n",
       "3 sample  8.725586\n",
       "4 sample  8.660591"
      ]
     },
     "metadata": {},
     "output_type": "display_data"
    },
    {
     "data": {
      "text/html": [
       "<table>\n",
       "<thead><tr><th scope=col>key</th><th scope=col>val</th></tr></thead>\n",
       "<tbody>\n",
       "\t<tr><td>broad_cell_type_nk_dc</td><td>1.044859             </td></tr>\n",
       "\t<tr><td>sample               </td><td>6.118483             </td></tr>\n",
       "\t<tr><td>technology           </td><td>1.132916             </td></tr>\n",
       "\t<tr><td>tissue               </td><td>1.834497             </td></tr>\n",
       "</tbody>\n",
       "</table>\n"
      ],
      "text/latex": [
       "\\begin{tabular}{r|ll}\n",
       " key & val\\\\\n",
       "\\hline\n",
       "\t broad\\_cell\\_type\\_nk\\_dc & 1.044859                     \\\\\n",
       "\t sample                & 6.118483             \\\\\n",
       "\t technology            & 1.132916             \\\\\n",
       "\t tissue                & 1.834497             \\\\\n",
       "\\end{tabular}\n"
      ],
      "text/markdown": [
       "\n",
       "| key | val |\n",
       "|---|---|\n",
       "| broad_cell_type_nk_dc | 1.044859              |\n",
       "| sample                | 6.118483              |\n",
       "| technology            | 1.132916              |\n",
       "| tissue                | 1.834497              |\n",
       "\n"
      ],
      "text/plain": [
       "  key                   val     \n",
       "1 broad_cell_type_nk_dc 1.044859\n",
       "2 sample                6.118483\n",
       "3 technology            1.132916\n",
       "4 tissue                1.834497"
      ]
     },
     "metadata": {},
     "output_type": "display_data"
    }
   ],
   "source": [
    "lisi_res <- readRDS(\"LISI_after_harmony_2020-05-30.rds\")\n",
    "lisi_res[1:4,]\n",
    "\n",
    "lisi_res %>% \n",
    "    group_by(key) %>%\n",
    "    summarise_all(\"mean\")"
   ]
  },
  {
   "cell_type": "code",
   "execution_count": 10,
   "metadata": {},
   "outputs": [
    {
     "data": {
      "image/png": "[encoded data removed]",
      "text/plain": [
       "plot without title"
      ]
     },
     "metadata": {},
     "output_type": "display_data"
    },
    {
     "data": {
      "image/png": "[encoded data removed]",
      "text/plain": [
       "plot without title"
      ]
     },
     "metadata": {},
     "output_type": "display_data"
    }
   ],
   "source": [
    "options(repr.plot.height = 2, repr.plot.width = 3)\n",
    "\n",
    "ggplot(lisi_res[which(lisi_res$key == \"sample\"),]) +\n",
    "    geom_density(\n",
    "        aes(x  = val)\n",
    "    ) +\n",
    "#   scale_x_continuous(limits = c(1, 15))+\n",
    "  labs(\n",
    "      x = \"LISI score\",\n",
    "      y = \"Density\",\n",
    "#       title = paste0(\"Mixing of \", length(table(meta_all$sample)),\" samples\", sep=\"\")\n",
    "      title = \"Sample\"\n",
    "      ) +\n",
    "  theme_classic(base_size = 15) +\n",
    "  theme(\n",
    "    legend.position = \"none\",\n",
    "    axis.text.y = element_blank(),\n",
    "    axis.ticks = element_blank(),\n",
    "    panel.grid = element_blank(),\n",
    "    plot.title = element_text(color=\"black\", size=14)\n",
    "  )\n",
    "ggsave(\"LISI_after_harmony_sample.pdf\", width = 3, height = 2)\n",
    "\n",
    "\n",
    "ggplot(lisi_res[which(lisi_res$key == \"tissue\"),]) +\n",
    "    geom_density(\n",
    "        aes(x  = val)\n",
    "    ) +\n",
    "#   scale_x_continuous(limits = c(1, 5))+\n",
    "  labs(\n",
    "      x = \"LISI score\",\n",
    "      y = \"Density\",\n",
    "      title = paste0(\"Mixing of 6 tissue sources\", sep=\"\")\n",
    "      ) +\n",
    "  theme_classic(base_size = 15) +\n",
    "  theme(\n",
    "    legend.position = \"none\",\n",
    "    axis.text.y = element_blank(),\n",
    "    axis.ticks = element_blank(),\n",
    "    panel.grid = element_blank(),\n",
    "    plot.title = element_text(color=\"black\", size=14)\n",
    "  )\n",
    "ggsave(\"LISI_after_harmony_tissue.pdf\", width = 3, height = 2)\n",
    "\n"
   ]
  },
  {
   "cell_type": "markdown",
   "metadata": {},
   "source": [
    "## Load the before harmonization embeddings"
   ]
  },
  {
   "cell_type": "code",
   "execution_count": 25,
   "metadata": {},
   "outputs": [
    {
     "data": {
      "text/html": [
       "<table>\n",
       "<thead><tr><th scope=col>PC1</th><th scope=col>PC2</th><th scope=col>PC3</th><th scope=col>PC4</th><th scope=col>PC5</th><th scope=col>PC6</th><th scope=col>PC7</th><th scope=col>PC8</th><th scope=col>PC9</th><th scope=col>PC10</th></tr></thead>\n",
       "<tbody>\n",
       "\t<tr><td>0.06428479  </td><td>0.2089305   </td><td>0.10230234  </td><td>-0.1570187  </td><td>-0.04675223 </td><td>-0.02924620 </td><td>-0.069733034</td><td>0.10760739  </td><td>0.03805453  </td><td>-0.03150895 </td></tr>\n",
       "\t<tr><td>0.10655340  </td><td>0.2316091   </td><td>0.12669262  </td><td>-0.1642951  </td><td>-0.00562886 </td><td>-0.05401619 </td><td>-0.089115737</td><td>0.07985903  </td><td>0.06891159  </td><td>-0.02968829 </td></tr>\n",
       "\t<tr><td>0.08089054  </td><td>0.2033624   </td><td>0.08698473  </td><td>-0.1564867  </td><td>-0.05886262 </td><td>-0.04161044 </td><td>-0.002807086</td><td>0.08879164  </td><td>0.05359425  </td><td>-0.07058511 </td></tr>\n",
       "\t<tr><td>0.07549270  </td><td>0.2632283   </td><td>0.12058181  </td><td>-0.1687226  </td><td>-0.05056625 </td><td>-0.01973639 </td><td>-0.092938785</td><td>0.11486237  </td><td>0.05590524  </td><td>-0.01765274 </td></tr>\n",
       "</tbody>\n",
       "</table>\n"
      ],
      "text/latex": [
       "\\begin{tabular}{r|llllllllll}\n",
       " PC1 & PC2 & PC3 & PC4 & PC5 & PC6 & PC7 & PC8 & PC9 & PC10\\\\\n",
       "\\hline\n",
       "\t 0.06428479   & 0.2089305    & 0.10230234   & -0.1570187   & -0.04675223  & -0.02924620  & -0.069733034 & 0.10760739   & 0.03805453   & -0.03150895 \\\\\n",
       "\t 0.10655340   & 0.2316091    & 0.12669262   & -0.1642951   & -0.00562886  & -0.05401619  & -0.089115737 & 0.07985903   & 0.06891159   & -0.02968829 \\\\\n",
       "\t 0.08089054   & 0.2033624    & 0.08698473   & -0.1564867   & -0.05886262  & -0.04161044  & -0.002807086 & 0.08879164   & 0.05359425   & -0.07058511 \\\\\n",
       "\t 0.07549270   & 0.2632283    & 0.12058181   & -0.1687226   & -0.05056625  & -0.01973639  & -0.092938785 & 0.11486237   & 0.05590524   & -0.01765274 \\\\\n",
       "\\end{tabular}\n"
      ],
      "text/markdown": [
       "\n",
       "| PC1 | PC2 | PC3 | PC4 | PC5 | PC6 | PC7 | PC8 | PC9 | PC10 |\n",
       "|---|---|---|---|---|---|---|---|---|---|\n",
       "| 0.06428479   | 0.2089305    | 0.10230234   | -0.1570187   | -0.04675223  | -0.02924620  | -0.069733034 | 0.10760739   | 0.03805453   | -0.03150895  |\n",
       "| 0.10655340   | 0.2316091    | 0.12669262   | -0.1642951   | -0.00562886  | -0.05401619  | -0.089115737 | 0.07985903   | 0.06891159   | -0.02968829  |\n",
       "| 0.08089054   | 0.2033624    | 0.08698473   | -0.1564867   | -0.05886262  | -0.04161044  | -0.002807086 | 0.08879164   | 0.05359425   | -0.07058511  |\n",
       "| 0.07549270   | 0.2632283    | 0.12058181   | -0.1687226   | -0.05056625  | -0.01973639  | -0.092938785 | 0.11486237   | 0.05590524   | -0.01765274  |\n",
       "\n"
      ],
      "text/plain": [
       "  PC1        PC2       PC3        PC4        PC5         PC6        \n",
       "1 0.06428479 0.2089305 0.10230234 -0.1570187 -0.04675223 -0.02924620\n",
       "2 0.10655340 0.2316091 0.12669262 -0.1642951 -0.00562886 -0.05401619\n",
       "3 0.08089054 0.2033624 0.08698473 -0.1564867 -0.05886262 -0.04161044\n",
       "4 0.07549270 0.2632283 0.12058181 -0.1687226 -0.05056625 -0.01973639\n",
       "  PC7          PC8        PC9        PC10       \n",
       "1 -0.069733034 0.10760739 0.03805453 -0.03150895\n",
       "2 -0.089115737 0.07985903 0.06891159 -0.02968829\n",
       "3 -0.002807086 0.08879164 0.05359425 -0.07058511\n",
       "4 -0.092938785 0.11486237 0.05590524 -0.01765274"
      ]
     },
     "metadata": {},
     "output_type": "display_data"
    }
   ],
   "source": [
    "meta_all[1:4, c(11:20)]"
   ]
  },
  {
   "cell_type": "code",
   "execution_count": 26,
   "metadata": {},
   "outputs": [
    {
     "data": {
      "text/html": [
       "<table>\n",
       "<thead><tr><th scope=col>key</th><th scope=col>val</th></tr></thead>\n",
       "<tbody>\n",
       "\t<tr><td>sample  </td><td>3.274203</td></tr>\n",
       "\t<tr><td>sample  </td><td>3.957039</td></tr>\n",
       "\t<tr><td>sample  </td><td>7.270507</td></tr>\n",
       "\t<tr><td>sample  </td><td>7.144615</td></tr>\n",
       "</tbody>\n",
       "</table>\n"
      ],
      "text/latex": [
       "\\begin{tabular}{r|ll}\n",
       " key & val\\\\\n",
       "\\hline\n",
       "\t sample   & 3.274203\\\\\n",
       "\t sample   & 3.957039\\\\\n",
       "\t sample   & 7.270507\\\\\n",
       "\t sample   & 7.144615\\\\\n",
       "\\end{tabular}\n"
      ],
      "text/markdown": [
       "\n",
       "| key | val |\n",
       "|---|---|\n",
       "| sample   | 3.274203 |\n",
       "| sample   | 3.957039 |\n",
       "| sample   | 7.270507 |\n",
       "| sample   | 7.144615 |\n",
       "\n"
      ],
      "text/plain": [
       "  key    val     \n",
       "1 sample 3.274203\n",
       "2 sample 3.957039\n",
       "3 sample 7.270507\n",
       "4 sample 7.144615"
      ]
     },
     "metadata": {},
     "output_type": "display_data"
    }
   ],
   "source": [
    "lisi_res <- rbind(\n",
    "    lisi::compute_lisi(meta_all[,c(11:20)], meta_all, c(\"sample\", \"broad_cell_type_nk_dc\", \"tissue\", \"technology\"))\n",
    ") %>% \n",
    "    tidyr::gather(key, val, sample, broad_cell_type_nk_dc, tissue, technology)\n",
    "\n",
    "lisi_res[1:4,]\n",
    "\n",
    "saveRDS(lisi_res, \"LISI_before_harmony_2020-05-30.rds\")"
   ]
  },
  {
   "cell_type": "code",
   "execution_count": 11,
   "metadata": {},
   "outputs": [
    {
     "data": {
      "text/html": [
       "<table>\n",
       "<thead><tr><th scope=col>key</th><th scope=col>val</th></tr></thead>\n",
       "<tbody>\n",
       "\t<tr><td>sample  </td><td>3.274203</td></tr>\n",
       "\t<tr><td>sample  </td><td>3.957039</td></tr>\n",
       "\t<tr><td>sample  </td><td>7.270507</td></tr>\n",
       "\t<tr><td>sample  </td><td>7.144615</td></tr>\n",
       "</tbody>\n",
       "</table>\n"
      ],
      "text/latex": [
       "\\begin{tabular}{r|ll}\n",
       " key & val\\\\\n",
       "\\hline\n",
       "\t sample   & 3.274203\\\\\n",
       "\t sample   & 3.957039\\\\\n",
       "\t sample   & 7.270507\\\\\n",
       "\t sample   & 7.144615\\\\\n",
       "\\end{tabular}\n"
      ],
      "text/markdown": [
       "\n",
       "| key | val |\n",
       "|---|---|\n",
       "| sample   | 3.274203 |\n",
       "| sample   | 3.957039 |\n",
       "| sample   | 7.270507 |\n",
       "| sample   | 7.144615 |\n",
       "\n"
      ],
      "text/plain": [
       "  key    val     \n",
       "1 sample 3.274203\n",
       "2 sample 3.957039\n",
       "3 sample 7.270507\n",
       "4 sample 7.144615"
      ]
     },
     "metadata": {},
     "output_type": "display_data"
    },
    {
     "data": {
      "text/html": [
       "<table>\n",
       "<thead><tr><th scope=col>key</th><th scope=col>val</th></tr></thead>\n",
       "<tbody>\n",
       "\t<tr><td>broad_cell_type_nk_dc</td><td>1.087411             </td></tr>\n",
       "\t<tr><td>sample               </td><td>2.894040             </td></tr>\n",
       "\t<tr><td>technology           </td><td>1.004376             </td></tr>\n",
       "\t<tr><td>tissue               </td><td>1.091131             </td></tr>\n",
       "</tbody>\n",
       "</table>\n"
      ],
      "text/latex": [
       "\\begin{tabular}{r|ll}\n",
       " key & val\\\\\n",
       "\\hline\n",
       "\t broad\\_cell\\_type\\_nk\\_dc & 1.087411                     \\\\\n",
       "\t sample                & 2.894040             \\\\\n",
       "\t technology            & 1.004376             \\\\\n",
       "\t tissue                & 1.091131             \\\\\n",
       "\\end{tabular}\n"
      ],
      "text/markdown": [
       "\n",
       "| key | val |\n",
       "|---|---|\n",
       "| broad_cell_type_nk_dc | 1.087411              |\n",
       "| sample                | 2.894040              |\n",
       "| technology            | 1.004376              |\n",
       "| tissue                | 1.091131              |\n",
       "\n"
      ],
      "text/plain": [
       "  key                   val     \n",
       "1 broad_cell_type_nk_dc 1.087411\n",
       "2 sample                2.894040\n",
       "3 technology            1.004376\n",
       "4 tissue                1.091131"
      ]
     },
     "metadata": {},
     "output_type": "display_data"
    }
   ],
   "source": [
    "lisi_res <- readRDS(\"LISI_before_harmony_2020-05-30.rds\")\n",
    "lisi_res[1:4,]\n",
    "\n",
    "lisi_res %>% \n",
    "    group_by(key) %>%\n",
    "    summarise_all(\"mean\")"
   ]
  },
  {
   "cell_type": "code",
   "execution_count": 16,
   "metadata": {},
   "outputs": [
    {
     "data": {
      "image/png": "[encoded data removed]",
      "text/plain": [
       "plot without title"
      ]
     },
     "metadata": {},
     "output_type": "display_data"
    },
    {
     "data": {
      "image/png": "[encoded data removed]",
      "text/plain": [
       "plot without title"
      ]
     },
     "metadata": {},
     "output_type": "display_data"
    }
   ],
   "source": [
    "options(repr.plot.height = 2, repr.plot.width = 3)\n",
    "\n",
    "ggplot(lisi_res[which(lisi_res$key == \"sample\"),]) +\n",
    "    geom_density(\n",
    "        aes(x  = val)\n",
    "    ) +\n",
    "#   scale_x_continuous(limits = c(1, 15))+\n",
    "  labs(\n",
    "      x = \"LISI score\",\n",
    "      y = \"Density\",\n",
    "      title = \"Sample\"\n",
    "      ) +\n",
    "  theme_classic(base_size = 15) +\n",
    "  theme(\n",
    "    legend.position = \"none\",\n",
    "    axis.text.y = element_blank(),\n",
    "    axis.ticks = element_blank(),\n",
    "    panel.grid = element_blank(),\n",
    "    plot.title = element_text(color=\"black\", size=14)\n",
    "  )\n",
    "ggsave(\"LISI_before_harmony_sample.pdf\", width = 3, height = 2)\n",
    "\n",
    "\n",
    "ggplot(lisi_res[which(lisi_res$key == \"tissue\"),]) +\n",
    "    geom_density(\n",
    "        aes(x  = val)\n",
    "    ) +\n",
    "#   scale_x_continuous(limits = c(1, 5))+\n",
    "  labs(\n",
    "      x = \"LISI score\",\n",
    "      y = \"Density\",\n",
    "      title = paste0(\"Mixing of 6 tissue sources\", sep=\"\")\n",
    "      ) +\n",
    "  theme_classic(base_size = 15) +\n",
    "  theme(\n",
    "    legend.position = \"none\",\n",
    "    axis.text.y = element_blank(),\n",
    "    axis.ticks = element_blank(),\n",
    "    panel.grid = element_blank(),\n",
    "    plot.title = element_text(color=\"black\", size=14)\n",
    "  )\n",
    "ggsave(\"LISI_before_harmony_tissue.pdf\", width = 3, height = 2)\n"
   ]
  },
  {
   "cell_type": "code",
   "execution_count": null,
   "metadata": {},
   "outputs": [],
   "source": []
  },
  {
   "cell_type": "code",
   "execution_count": null,
   "metadata": {},
   "outputs": [],
   "source": []
  },
  {
   "cell_type": "code",
   "execution_count": null,
   "metadata": {},
   "outputs": [],
   "source": []
  }
 ],
 "metadata": {
  "kernelspec": {
   "display_name": "R",
   "language": "R",
   "name": "ir"
  },
  "language_info": {
   "codemirror_mode": "r",
   "file_extension": ".r",
   "mimetype": "text/x-r-source",
   "name": "R",
   "pygments_lexer": "r",
   "version": "3.6.1"
  }
 },
 "nbformat": 4,
 "nbformat_minor": 4
}
